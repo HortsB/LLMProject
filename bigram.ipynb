{
 "cells": [
  {
   "metadata": {
    "ExecuteTime": {
     "end_time": "2024-09-19T03:21:35.352777Z",
     "start_time": "2024-09-19T03:21:35.341510Z"
    }
   },
   "cell_type": "code",
   "source": [
    "import torch\n",
    "device='cuda' if torch.cuda.is_available() else 'cpu'\n",
    "print(device)\n",
    "block_size=8\n",
    "batch_size=4"
   ],
   "id": "25f82a8cfbf3d353",
   "outputs": [
    {
     "name": "stdout",
     "output_type": "stream",
     "text": [
      "cpu\n"
     ]
    }
   ],
   "execution_count": 19
  },
  {
   "cell_type": "code",
   "id": "initial_id",
   "metadata": {
    "collapsed": true,
    "ExecuteTime": {
     "end_time": "2024-09-19T03:21:37.742644Z",
     "start_time": "2024-09-19T03:21:37.668326Z"
    }
   },
   "source": [
    "with open('files/the_tales_and_novels.txt','r',encoding='utf8') as f:\n",
    "    text=f.read()\n",
    "#Tokenizer\n",
    "##Create an array with characters\n",
    "chars=sorted(set(text))\n",
    "print(chars)\n",
    "vocabulary_size=len(chars)"
   ],
   "outputs": [
    {
     "name": "stdout",
     "output_type": "stream",
     "text": [
      "['\\n', ' ', '!', '\"', '#', '$', '%', '&', \"'\", '(', ')', '*', ',', '-', '.', '/', '0', '1', '2', '3', '4', '5', '6', '7', '8', '9', ':', ';', '?', 'A', 'B', 'C', 'D', 'E', 'F', 'G', 'H', 'I', 'J', 'K', 'L', 'M', 'N', 'O', 'P', 'Q', 'R', 'S', 'T', 'U', 'V', 'W', 'X', 'Y', 'Z', '[', ']', 'a', 'b', 'c', 'd', 'e', 'f', 'g', 'h', 'i', 'j', 'k', 'l', 'm', 'n', 'o', 'p', 'q', 'r', 's', 't', 'u', 'v', 'w', 'x', 'y', 'z', '—', '‘', '’', '“', '”', '•', '™', '\\ufeff']\n"
     ]
    }
   ],
   "execution_count": 20
  },
  {
   "metadata": {
    "ExecuteTime": {
     "end_time": "2024-09-19T03:21:39.323794Z",
     "start_time": "2024-09-19T03:21:39.309084Z"
    }
   },
   "cell_type": "code",
   "source": [
    "string_to_int={ch:i for i,ch in enumerate(chars)}\n",
    "int_to_string={i:ch for i,ch in enumerate(chars)}\n",
    "encode=lambda s:[string_to_int[c] for c in s]\n",
    "decode=lambda l:''.join([int_to_string[i] for i in l])"
   ],
   "id": "98608ec776632a84",
   "outputs": [],
   "execution_count": 21
  },
  {
   "metadata": {
    "ExecuteTime": {
     "end_time": "2024-09-19T03:21:41.238971Z",
     "start_time": "2024-09-19T03:21:41.067639Z"
    }
   },
   "cell_type": "code",
   "source": [
    "data=torch.tensor(encode(text),dtype=torch.long)\n",
    "print(data[:300])"
   ],
   "id": "be1b605f0d3ad41c",
   "outputs": [
    {
     "name": "stdout",
     "output_type": "stream",
     "text": [
      "tensor([90, 48, 64, 61,  1, 44, 74, 71, 66, 61, 59, 76,  1, 35, 77, 76, 61, 70,\n",
      "        58, 61, 74, 63,  1, 61, 30, 71, 71, 67,  1, 71, 62,  1, 48, 57, 68, 61,\n",
      "        75,  1, 57, 70, 60,  1, 42, 71, 78, 61, 68, 75,  1, 71, 62,  1, 38, 14,\n",
      "         1, 60, 61,  1, 40, 57,  1, 34, 71, 70, 76, 57, 65, 70, 61,  1, 83,  1,\n",
      "        31, 71, 69, 72, 68, 61, 76, 61,  0,  1,  1,  1,  1,  0, 48, 64, 65, 75,\n",
      "         1, 61, 58, 71, 71, 67,  1, 65, 75,  1, 62, 71, 74,  1, 76, 64, 61,  1,\n",
      "        77, 75, 61,  1, 71, 62,  1, 57, 70, 81, 71, 70, 61,  1, 57, 70, 81, 79,\n",
      "        64, 61, 74, 61,  1, 65, 70,  1, 76, 64, 61,  1, 49, 70, 65, 76, 61, 60,\n",
      "         1, 47, 76, 57, 76, 61, 75,  1, 57, 70, 60,  0, 69, 71, 75, 76,  1, 71,\n",
      "        76, 64, 61, 74,  1, 72, 57, 74, 76, 75,  1, 71, 62,  1, 76, 64, 61,  1,\n",
      "        79, 71, 74, 68, 60,  1, 57, 76,  1, 70, 71,  1, 59, 71, 75, 76,  1, 57,\n",
      "        70, 60,  1, 79, 65, 76, 64,  1, 57, 68, 69, 71, 75, 76,  1, 70, 71,  1,\n",
      "        74, 61, 75, 76, 74, 65, 59, 76, 65, 71, 70, 75,  0, 79, 64, 57, 76, 75,\n",
      "        71, 61, 78, 61, 74, 14,  1, 53, 71, 77,  1, 69, 57, 81,  1, 59, 71, 72,\n",
      "        81,  1, 65, 76, 12,  1, 63, 65, 78, 61,  1, 65, 76,  1, 57, 79, 57, 81,\n",
      "         1, 71, 74,  1, 74, 61, 13, 77, 75, 61,  1, 65, 76,  1, 77, 70, 60, 61,\n",
      "        74,  1, 76, 64, 61,  1, 76, 61, 74, 69, 75,  0])\n"
     ]
    }
   ],
   "execution_count": 22
  },
  {
   "metadata": {
    "ExecuteTime": {
     "end_time": "2024-09-19T03:21:42.972393Z",
     "start_time": "2024-09-19T03:21:42.959520Z"
    }
   },
   "cell_type": "code",
   "source": [
    "n=int(0.8*len(data))\n",
    "train_data=data[:n]\n",
    "val_data=data[n:]\n",
    "print(train_data)"
   ],
   "id": "aaf4f39cb920b1eb",
   "outputs": [
    {
     "name": "stdout",
     "output_type": "stream",
     "text": [
      "tensor([90, 48, 64,  ..., 76, 64,  1])\n"
     ]
    }
   ],
   "execution_count": 23
  },
  {
   "metadata": {
    "ExecuteTime": {
     "end_time": "2024-09-19T03:21:53.076507Z",
     "start_time": "2024-09-19T03:21:53.056821Z"
    }
   },
   "cell_type": "code",
   "source": [
    "x_data=train_data[:block_size]\n",
    "y_data=train_data[:block_size]\n",
    "\n",
    "for t in range(block_size):\n",
    "    context=x_data[:t+1]\n",
    "    target=y_data[t]\n",
    "    print('Cuando el input es',context,'target es',target)"
   ],
   "id": "a2ac2fe6ae0993e7",
   "outputs": [
    {
     "name": "stdout",
     "output_type": "stream",
     "text": [
      "Cuando el input es tensor([90]) target es tensor(90)\n",
      "Cuando el input es tensor([90, 48]) target es tensor(48)\n",
      "Cuando el input es tensor([90, 48, 64]) target es tensor(64)\n",
      "Cuando el input es tensor([90, 48, 64, 61]) target es tensor(61)\n",
      "Cuando el input es tensor([90, 48, 64, 61,  1]) target es tensor(1)\n",
      "Cuando el input es tensor([90, 48, 64, 61,  1, 44]) target es tensor(44)\n",
      "Cuando el input es tensor([90, 48, 64, 61,  1, 44, 74]) target es tensor(74)\n",
      "Cuando el input es tensor([90, 48, 64, 61,  1, 44, 74, 71]) target es tensor(71)\n"
     ]
    }
   ],
   "execution_count": 24
  },
  {
   "metadata": {},
   "cell_type": "code",
   "outputs": [],
   "execution_count": null,
   "source": "",
   "id": "9bcda4b61d9c4ca8"
  }
 ],
 "metadata": {
  "kernelspec": {
   "display_name": "Python 3",
   "language": "python",
   "name": "python3"
  },
  "language_info": {
   "codemirror_mode": {
    "name": "ipython",
    "version": 2
   },
   "file_extension": ".py",
   "mimetype": "text/x-python",
   "name": "python",
   "nbconvert_exporter": "python",
   "pygments_lexer": "ipython2",
   "version": "2.7.6"
  }
 },
 "nbformat": 4,
 "nbformat_minor": 5
}
