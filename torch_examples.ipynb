{
 "cells": [
  {
   "cell_type": "code",
   "id": "initial_id",
   "metadata": {
    "collapsed": true,
    "ExecuteTime": {
     "end_time": "2024-09-19T03:25:32.527921Z",
     "start_time": "2024-09-19T03:25:27.617405Z"
    }
   },
   "source": "import torch",
   "outputs": [],
   "execution_count": 1
  },
  {
   "metadata": {
    "ExecuteTime": {
     "end_time": "2024-09-19T03:25:52.526853Z",
     "start_time": "2024-09-19T03:25:52.496419Z"
    }
   },
   "cell_type": "code",
   "source": [
    "randint=torch.randint(-100,100,(6,5))\n",
    "randint"
   ],
   "id": "869c9579b307371c",
   "outputs": [
    {
     "data": {
      "text/plain": [
       "tensor([[  62,   36,  -71,  -48,  -55],\n",
       "        [  93,   71,   95,  -76,  -66],\n",
       "        [ -95,   16,  -44,  -94,   75],\n",
       "        [  22, -100,  -94,   45,  -81],\n",
       "        [ -82,   86,   -5,  -33,  -66],\n",
       "        [  97,  -13,   47,  -90,  -15]])"
      ]
     },
     "execution_count": 2,
     "metadata": {},
     "output_type": "execute_result"
    }
   ],
   "execution_count": 2
  }
 ],
 "metadata": {
  "kernelspec": {
   "display_name": "Python 3",
   "language": "python",
   "name": "python3"
  },
  "language_info": {
   "codemirror_mode": {
    "name": "ipython",
    "version": 2
   },
   "file_extension": ".py",
   "mimetype": "text/x-python",
   "name": "python",
   "nbconvert_exporter": "python",
   "pygments_lexer": "ipython2",
   "version": "2.7.6"
  }
 },
 "nbformat": 4,
 "nbformat_minor": 5
}
